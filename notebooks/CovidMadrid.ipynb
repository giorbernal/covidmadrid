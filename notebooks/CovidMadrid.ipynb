{
 "cells": [
  {
   "cell_type": "markdown",
   "metadata": {},
   "source": [
    "\n",
    "\n",
    "# Covid-19 en Madrid. Incidencia por Zonas "
   ]
  },
  {
   "cell_type": "code",
   "execution_count": null,
   "metadata": {},
   "outputs": [],
   "source": [
    "WORK_FOLDER='../'"
   ]
  },
  {
   "cell_type": "code",
   "execution_count": null,
   "metadata": {},
   "outputs": [],
   "source": [
    "import sys\n",
    "sys.path.append(WORK_FOLDER)"
   ]
  },
  {
   "cell_type": "code",
   "execution_count": 1,
   "metadata": {},
   "outputs": [
    {
     "ename": "ModuleNotFoundError",
     "evalue": "No module named 'utils'",
     "output_type": "error",
     "traceback": [
      "\u001b[0;31m---------------------------------------------------------------------------\u001b[0m",
      "\u001b[0;31mModuleNotFoundError\u001b[0m                       Traceback (most recent call last)",
      "\u001b[0;32m<ipython-input-1-b83498d0b65f>\u001b[0m in \u001b[0;36m<module>\u001b[0;34m\u001b[0m\n\u001b[1;32m      1\u001b[0m \u001b[0;32mimport\u001b[0m \u001b[0mnumpy\u001b[0m \u001b[0;32mas\u001b[0m \u001b[0mnp\u001b[0m\u001b[0;34m\u001b[0m\u001b[0;34m\u001b[0m\u001b[0m\n\u001b[1;32m      2\u001b[0m \u001b[0;32mimport\u001b[0m \u001b[0mmatplotlib\u001b[0m\u001b[0;34m.\u001b[0m\u001b[0mpyplot\u001b[0m \u001b[0;32mas\u001b[0m \u001b[0mplt\u001b[0m\u001b[0;34m\u001b[0m\u001b[0;34m\u001b[0m\u001b[0m\n\u001b[0;32m----> 3\u001b[0;31m \u001b[0;32mfrom\u001b[0m \u001b[0mutils\u001b[0m\u001b[0;34m.\u001b[0m\u001b[0mhelper\u001b[0m \u001b[0;32mimport\u001b[0m \u001b[0mloadCovidData\u001b[0m\u001b[0;34m,\u001b[0m \u001b[0mloadCovidDataSpain\u001b[0m\u001b[0;34m,\u001b[0m \u001b[0mgetMadridTotalData\u001b[0m\u001b[0;34m,\u001b[0m \u001b[0mfilterCovidData\u001b[0m\u001b[0;34m,\u001b[0m \u001b[0mloadPopulationData\u001b[0m\u001b[0;34m,\u001b[0m \u001b[0mloadResData\u001b[0m\u001b[0;34m,\u001b[0m \u001b[0mloadAgeData\u001b[0m\u001b[0;34m,\u001b[0m \u001b[0mmergeData\u001b[0m\u001b[0;34m\u001b[0m\u001b[0;34m\u001b[0m\u001b[0m\n\u001b[0m\u001b[1;32m      4\u001b[0m \u001b[0;32mfrom\u001b[0m \u001b[0mutils\u001b[0m\u001b[0;34m.\u001b[0m\u001b[0mhelper\u001b[0m \u001b[0;32mimport\u001b[0m \u001b[0mcomparePlaces\u001b[0m\u001b[0;34m,\u001b[0m \u001b[0mplotPlaces\u001b[0m\u001b[0;34m,\u001b[0m \u001b[0mshowPopulationAgeProfile\u001b[0m\u001b[0;34m,\u001b[0m \u001b[0mscatterPlaces\u001b[0m\u001b[0;34m\u001b[0m\u001b[0;34m\u001b[0m\u001b[0m\n\u001b[1;32m      5\u001b[0m \u001b[0mget_ipython\u001b[0m\u001b[0;34m(\u001b[0m\u001b[0;34m)\u001b[0m\u001b[0;34m.\u001b[0m\u001b[0mrun_line_magic\u001b[0m\u001b[0;34m(\u001b[0m\u001b[0;34m'matplotlib'\u001b[0m\u001b[0;34m,\u001b[0m \u001b[0;34m'inline'\u001b[0m\u001b[0;34m)\u001b[0m\u001b[0;34m\u001b[0m\u001b[0;34m\u001b[0m\u001b[0m\n",
      "\u001b[0;31mModuleNotFoundError\u001b[0m: No module named 'utils'"
     ]
    }
   ],
   "source": [
    "import numpy as np\n",
    "import matplotlib.pyplot as plt\n",
    "from utils.helper import loadCovidData, loadCovidDataSpain, getMadridTotalData, filterCovidData, loadPopulationData, loadResData, loadAgeData, mergeData\n",
    "from utils.helper import comparePlaces, plotPlaces, showPopulationAgeProfile, scatterPlaces\n",
    "%matplotlib inline"
   ]
  },
  {
   "cell_type": "code",
   "execution_count": null,
   "metadata": {},
   "outputs": [],
   "source": [
    "%%javascript\n",
    "IPython.OutputArea.auto_scroll_threshold = 9999;"
   ]
  },
  {
   "cell_type": "markdown",
   "metadata": {},
   "source": [
    "## Carga de datos de la fuente oficial"
   ]
  },
  {
   "cell_type": "code",
   "execution_count": null,
   "metadata": {},
   "outputs": [],
   "source": [
    "#!wget https://datos.comunidad.madrid/catalogo/dataset/7da43feb-8d4d-47e0-abd5-3d022d29d09e/resource/b2a3a3f9-1f82-42c2-89c7-cbd3ef801412/download/covid19_tia_muni_y_distritos.csv --no-check-certificat -O ../datasets/covid19_tia_muni_y_distritos.csv"
   ]
  },
  {
   "cell_type": "code",
   "execution_count": null,
   "metadata": {},
   "outputs": [],
   "source": [
    "#!wget https://cnecovid.isciii.es/covid19/resources/agregados.csv -O ../datasets/covid19_estado_raw.csv\n",
    "#!cat ../datasets/covid19_estado_raw.csv | grep -E '^[A-Z][A-Z],.*|CCAA,.*' > ../datasets/covid19_estado.csv\n",
    "#!rm -f ../datasets/covid19_estado_raw.csv"
   ]
  },
  {
   "cell_type": "code",
   "execution_count": null,
   "metadata": {},
   "outputs": [],
   "source": [
    "df = loadCovidData(prefix=WORK_FOLDER)"
   ]
  },
  {
   "cell_type": "markdown",
   "metadata": {},
   "source": [
    "## Observación de datos en el total de la Comunidad de Madrid"
   ]
  },
  {
   "cell_type": "markdown",
   "metadata": {},
   "source": [
    "Comparamos Datos del total dados por la comunidad de Madrid, la cuidad de Madrid y los reportados al estado: "
   ]
  },
  {
   "cell_type": "code",
   "execution_count": null,
   "metadata": {},
   "outputs": [],
   "source": [
    "#!wget https://cnecovid.isciii.es/covid19/resources/agregados.csv -O ../datasets/covid19_estado_raw.csv\n",
    "#!cat ../datasets/covid19_estado_raw.csv | grep -E '^[A-Z][A-Z],.*|CCAA,.*' > ../datasets/covid19_estado.csv\n",
    "#!rm -f ../datasets/covid19_estado_raw.csv"
   ]
  },
  {
   "cell_type": "code",
   "execution_count": null,
   "metadata": {},
   "outputs": [],
   "source": [
    "df_spain = loadCovidDataSpain()"
   ]
  },
  {
   "cell_type": "code",
   "execution_count": null,
   "metadata": {},
   "outputs": [],
   "source": [
    "df_all_madrid = getMadridTotalData(df, df_spain)"
   ]
  },
  {
   "cell_type": "markdown",
   "metadata": {},
   "source": [
    "## Lista de municipios y distritos a observar"
   ]
  },
  {
   "cell_type": "code",
   "execution_count": null,
   "metadata": {},
   "outputs": [],
   "source": [
    "madrid_places = df[df['municipio_distrito'].str.startswith('Madrid')]['municipio_distrito'].unique()\n",
    "loc_places = np.array(['Getafe','Leganés','Fuenlabrada','Alcorcón','Móstoles','Parla',\n",
    "                       'Alcalá de Henares','Torrejón de Ardoz','Coslada',\n",
    "                       'Pozuelo de Alarcón','Majadahonda','Las Rozas de Madrid','Collado Villalba'])\n",
    "places = np.concatenate([madrid_places, loc_places])"
   ]
  },
  {
   "cell_type": "markdown",
   "metadata": {},
   "source": [
    "### Indicencia total ordenada por zona"
   ]
  },
  {
   "cell_type": "code",
   "execution_count": null,
   "metadata": {},
   "outputs": [],
   "source": [
    "comparePlaces(df,places)"
   ]
  },
  {
   "cell_type": "markdown",
   "metadata": {},
   "source": [
    "### Evolución de casos detectados por día por zona "
   ]
  },
  {
   "cell_type": "code",
   "execution_count": null,
   "metadata": {},
   "outputs": [],
   "source": [
    "plotPlaces(df,places,agg_factor=1)"
   ]
  },
  {
   "cell_type": "markdown",
   "metadata": {},
   "source": [
    "## Peso de la edad de la población en la incidencia"
   ]
  },
  {
   "cell_type": "markdown",
   "metadata": {},
   "source": [
    "Realizaremos una serie de visualizaciones para observar el peso de la edad de la población en la incidencia de Covid-19 las zonas seleccionadas anteriormente:"
   ]
  },
  {
   "cell_type": "markdown",
   "metadata": {},
   "source": [
    "### Carga de datos adicionales y combinación"
   ]
  },
  {
   "cell_type": "code",
   "execution_count": null,
   "metadata": {},
   "outputs": [],
   "source": [
    "# Filtramos para quedarnos con los últimos datos de la serie\n",
    "df_covid = filterCovidData(df)\n",
    "# Número de habitantes por municipio distrito\n",
    "df_pop = loadPopulationData(prefix=WORK_FOLDER)\n",
    "# Número de plazas de residencia en cada municipio (No se incluyen los distritos de Madrid)\n",
    "df_res = loadResData(prefix=WORK_FOLDER)\n",
    "# Número de censados agrupados por edad y agregado de mayores de los años que indique el parámetro 'age_th'\n",
    "age_th=70\n",
    "df_age_profile, df_age_th = loadAgeData(age_th, prefix=WORK_FOLDER)"
   ]
  },
  {
   "cell_type": "markdown",
   "metadata": {},
   "source": [
    "A continuación uniremos estos datos en una única tabla:"
   ]
  },
  {
   "cell_type": "code",
   "execution_count": null,
   "metadata": {},
   "outputs": [],
   "source": [
    "df_completed = mergeData(df_covid, df_pop, df_res, df_age_th)"
   ]
  },
  {
   "cell_type": "markdown",
   "metadata": {},
   "source": [
    "Filtramos por los lugares con mas de cierto número de habitantes: "
   ]
  },
  {
   "cell_type": "code",
   "execution_count": null,
   "metadata": {},
   "outputs": [],
   "source": [
    "df_completed_cities=df_completed[df_completed['habitantes'] > 50000]"
   ]
  },
  {
   "cell_type": "markdown",
   "metadata": {},
   "source": [
    "### Observación de la Incidencia Vs unidades relativas en relación con la edad"
   ]
  },
  {
   "cell_type": "markdown",
   "metadata": {},
   "source": [
    "Tasa de incidencia acumulada / 100.000 habitantes Vs Plazas de residencias en el municipio / 1000 habitantes:"
   ]
  },
  {
   "cell_type": "code",
   "execution_count": null,
   "metadata": {},
   "outputs": [],
   "source": [
    "scatterPlaces(df_completed_cities,'tasa_incidencia_acumulada_total_float','plazas_res_1000_hab')"
   ]
  },
  {
   "cell_type": "markdown",
   "metadata": {},
   "source": [
    "Tasa de incidencia acumulada / 100.000 habitantes Vs Porcentaje de población por encima de la edad señalada en \"age_th\": "
   ]
  },
  {
   "cell_type": "code",
   "execution_count": null,
   "metadata": {},
   "outputs": [],
   "source": [
    "scatterPlaces(df_completed_cities,'tasa_incidencia_acumulada_total_float','porc_poblacion_older_than_th')"
   ]
  },
  {
   "cell_type": "markdown",
   "metadata": {},
   "source": [
    "### Conclusión"
   ]
  },
  {
   "cell_type": "markdown",
   "metadata": {},
   "source": [
    "Atendiendo especialmente a la segunda gráfica parece que puede haber una cierta relación entre incidencia y edad."
   ]
  },
  {
   "cell_type": "code",
   "execution_count": null,
   "metadata": {},
   "outputs": [],
   "source": [
    "scatterPlaces(df_completed_cities,'tasa_incidencia_acumulada_total_float','porc_poblacion_older_than_th',reg=True)"
   ]
  },
  {
   "cell_type": "markdown",
   "metadata": {},
   "source": [
    "No obstante no parece ser determinante si atendemos a casos anómalos como los siguientes:\n",
    "* Rivas, Parla y Valdemoro: Con un volumen de casos intermedio para una población jovén, especialmente Fuenlabrada\n",
    "* Getafe y Alcorcón con un numero de casos reletivamente bajo, especialmente Getafe para una población con un perfil de edad de la población parecida a la lugares con alta incidencia, como Leganés y Alcalá.\n",
    "\n",
    "De hecho, observese el perfil poblacional de estos 2 municipios, en ellos la incidencia es muy dispar, mientras que el perfil es bastante parecido. Siendo además los municipios con mayor número de plazas en residencias:"
   ]
  },
  {
   "cell_type": "code",
   "execution_count": null,
   "metadata": {},
   "outputs": [],
   "source": [
    "showPopulationAgeProfile(df_age_profile,'Getafe')"
   ]
  },
  {
   "cell_type": "code",
   "execution_count": null,
   "metadata": {},
   "outputs": [],
   "source": [
    "showPopulationAgeProfile(df_age_profile,'Leganés')"
   ]
  },
  {
   "cell_type": "markdown",
   "metadata": {},
   "source": [
    "Conclusión, La incidencia depende, además de la edad, de otros factores que habrá que seguir investigando. "
   ]
  },
  {
   "cell_type": "markdown",
   "metadata": {},
   "source": [
    "## Top incidencia en el último día"
   ]
  },
  {
   "cell_type": "code",
   "execution_count": null,
   "metadata": {},
   "outputs": [],
   "source": [
    "df_completed_cities"
   ]
  },
  {
   "cell_type": "markdown",
   "metadata": {},
   "source": [
    "# Fin de la visualización"
   ]
  },
  {
   "cell_type": "code",
   "execution_count": null,
   "metadata": {},
   "outputs": [],
   "source": []
  }
 ],
 "metadata": {
  "kernelspec": {
   "display_name": "Python 3",
   "language": "python",
   "name": "python3"
  },
  "language_info": {
   "codemirror_mode": {
    "name": "ipython",
    "version": 3
   },
   "file_extension": ".py",
   "mimetype": "text/x-python",
   "name": "python",
   "nbconvert_exporter": "python",
   "pygments_lexer": "ipython3",
   "version": "3.7.7"
  }
 },
 "nbformat": 4,
 "nbformat_minor": 2
}
