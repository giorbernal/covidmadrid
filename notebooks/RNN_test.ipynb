{
 "cells": [
  {
   "cell_type": "markdown",
   "metadata": {},
   "source": [
    "# RNN Test"
   ]
  },
  {
   "cell_type": "code",
   "execution_count": 10,
   "metadata": {},
   "outputs": [],
   "source": [
    "WORK_FOLDER='../'"
   ]
  },
  {
   "cell_type": "code",
   "execution_count": 11,
   "metadata": {},
   "outputs": [],
   "source": [
    "import sys\n",
    "sys.path.append(WORK_FOLDER)"
   ]
  },
  {
   "cell_type": "code",
   "execution_count": 12,
   "metadata": {},
   "outputs": [],
   "source": [
    "import numpy as np\n",
    "import matplotlib.pyplot as plt\n",
    "\n",
    "from utils.helper import loadCovidData, plotPlaces\n",
    "from utils.RNN import RNN\n",
    "%matplotlib inline"
   ]
  },
  {
   "cell_type": "code",
   "execution_count": 13,
   "metadata": {},
   "outputs": [
    {
     "data": {
      "text/plain": [
       "<Figure size 1440x504 with 0 Axes>"
      ]
     },
     "metadata": {},
     "output_type": "display_data"
    }
   ],
   "source": [
    "df = loadCovidData(prefix=WORK_FOLDER)\n",
    "df_total = df.groupby(by='fecha_informe').sum().reset_index()\n",
    "unique_place = 'Comunidad de Madrid'\n",
    "df_total['municipio_distrito'] = df_total.apply(lambda x: unique_place, axis=1)\n",
    "_, df_total_inc = plotPlaces(df_total, np.array(['Comunidad de Madrid']), agg_factor=1, plot=False)\n",
    "serie = df_total_inc['Contagios diarios'].to_numpy()"
   ]
  },
  {
   "cell_type": "code",
   "execution_count": 14,
   "metadata": {},
   "outputs": [
    {
     "data": {
      "text/plain": [
       "[<matplotlib.lines.Line2D at 0x1a394378d0>]"
      ]
     },
     "execution_count": 14,
     "metadata": {},
     "output_type": "execute_result"
    },
    {
     "data": {
      "image/png": "[encoded data removed]",
      "text/plain": [
       "<Figure size 432x288 with 1 Axes>"
      ]
     },
     "metadata": {
      "needs_background": "light"
     },
     "output_type": "display_data"
    }
   ],
   "source": [
    "plt.plot(serie)"
   ]
  },
  {
   "cell_type": "code",
   "execution_count": 31,
   "metadata": {},
   "outputs": [],
   "source": [
    "rnn = RNN(data=serie, window_size=14, lstm_units=16, epochs=150)"
   ]
  },
  {
   "cell_type": "code",
   "execution_count": 32,
   "metadata": {},
   "outputs": [
    {
     "name": "stdout",
     "output_type": "stream",
     "text": [
      "Train on 24 samples, validate on 7 samples\n",
      "Epoch 1/150\n",
      " - 3s - loss: 0.1137 - val_loss: 0.1100\n",
      "Epoch 2/150\n",
      " - 0s - loss: 0.0968 - val_loss: 0.0937\n",
      "Epoch 3/150\n",
      " - 0s - loss: 0.0833 - val_loss: 0.0799\n",
      "Epoch 4/150\n",
      " - 0s - loss: 0.0729 - val_loss: 0.0689\n",
      "Epoch 5/150\n",
      " - 0s - loss: 0.0654 - val_loss: 0.0605\n",
      "Epoch 6/150\n",
      " - 0s - loss: 0.0601 - val_loss: 0.0541\n",
      "Epoch 7/150\n",
      " - 0s - loss: 0.0562 - val_loss: 0.0492\n",
      "Epoch 8/150\n",
      " - 0s - loss: 0.0532 - val_loss: 0.0454\n",
      "Epoch 9/150\n",
      " - 0s - loss: 0.0509 - val_loss: 0.0423\n",
      "Epoch 10/150\n",
      " - 0s - loss: 0.0490 - val_loss: 0.0398\n",
      "Epoch 11/150\n",
      " - 0s - loss: 0.0473 - val_loss: 0.0377\n",
      "Epoch 12/150\n",
      " - 0s - loss: 0.0459 - val_loss: 0.0360\n",
      "Epoch 13/150\n",
      " - 0s - loss: 0.0445 - val_loss: 0.0345\n",
      "Epoch 14/150\n",
      " - 0s - loss: 0.0433 - val_loss: 0.0332\n",
      "Epoch 15/150\n",
      " - 0s - loss: 0.0422 - val_loss: 0.0320\n",
      "Epoch 16/150\n",
      " - 0s - loss: 0.0411 - val_loss: 0.0309\n",
      "Epoch 17/150\n",
      " - 0s - loss: 0.0400 - val_loss: 0.0300\n",
      "Epoch 18/150\n",
      " - 0s - loss: 0.0390 - val_loss: 0.0291\n",
      "Epoch 19/150\n",
      " - 0s - loss: 0.0380 - val_loss: 0.0283\n",
      "Epoch 20/150\n",
      " - 0s - loss: 0.0369 - val_loss: 0.0275\n",
      "Epoch 21/150\n",
      " - 0s - loss: 0.0359 - val_loss: 0.0268\n",
      "Epoch 22/150\n",
      " - 0s - loss: 0.0348 - val_loss: 0.0261\n",
      "Epoch 23/150\n",
      " - 0s - loss: 0.0337 - val_loss: 0.0254\n",
      "Epoch 24/150\n",
      " - 0s - loss: 0.0325 - val_loss: 0.0248\n",
      "Epoch 25/150\n",
      " - 0s - loss: 0.0312 - val_loss: 0.0241\n",
      "Epoch 26/150\n",
      " - 0s - loss: 0.0298 - val_loss: 0.0235\n",
      "Epoch 27/150\n",
      " - 0s - loss: 0.0283 - val_loss: 0.0228\n",
      "Epoch 28/150\n",
      " - 0s - loss: 0.0268 - val_loss: 0.0221\n",
      "Epoch 29/150\n",
      " - 0s - loss: 0.0254 - val_loss: 0.0214\n",
      "Epoch 30/150\n",
      " - 0s - loss: 0.0240 - val_loss: 0.0207\n",
      "Epoch 31/150\n",
      " - 0s - loss: 0.0227 - val_loss: 0.0199\n",
      "Epoch 32/150\n",
      " - 0s - loss: 0.0215 - val_loss: 0.0192\n",
      "Epoch 33/150\n",
      " - 0s - loss: 0.0203 - val_loss: 0.0185\n",
      "Epoch 34/150\n",
      " - 0s - loss: 0.0192 - val_loss: 0.0178\n",
      "Epoch 35/150\n",
      " - 0s - loss: 0.0182 - val_loss: 0.0172\n",
      "Epoch 36/150\n",
      " - 0s - loss: 0.0172 - val_loss: 0.0166\n",
      "Epoch 37/150\n",
      " - 0s - loss: 0.0162 - val_loss: 0.0160\n",
      "Epoch 38/150\n",
      " - 0s - loss: 0.0153 - val_loss: 0.0154\n",
      "Epoch 39/150\n",
      " - 0s - loss: 0.0144 - val_loss: 0.0149\n",
      "Epoch 40/150\n",
      " - 0s - loss: 0.0136 - val_loss: 0.0144\n",
      "Epoch 41/150\n",
      " - 0s - loss: 0.0128 - val_loss: 0.0140\n",
      "Epoch 42/150\n",
      " - 0s - loss: 0.0120 - val_loss: 0.0135\n",
      "Epoch 43/150\n",
      " - 0s - loss: 0.0113 - val_loss: 0.0131\n",
      "Epoch 44/150\n",
      " - 0s - loss: 0.0106 - val_loss: 0.0128\n",
      "Epoch 45/150\n",
      " - 0s - loss: 0.0100 - val_loss: 0.0124\n",
      "Epoch 46/150\n",
      " - 0s - loss: 0.0094 - val_loss: 0.0121\n",
      "Epoch 47/150\n",
      " - 0s - loss: 0.0088 - val_loss: 0.0118\n",
      "Epoch 48/150\n",
      " - 0s - loss: 0.0083 - val_loss: 0.0116\n",
      "Epoch 49/150\n",
      " - 0s - loss: 0.0079 - val_loss: 0.0114\n",
      "Epoch 50/150\n",
      " - 0s - loss: 0.0075 - val_loss: 0.0112\n",
      "Epoch 51/150\n",
      " - 0s - loss: 0.0071 - val_loss: 0.0111\n",
      "Epoch 52/150\n",
      " - 0s - loss: 0.0068 - val_loss: 0.0110\n",
      "Epoch 53/150\n",
      " - 0s - loss: 0.0065 - val_loss: 0.0109\n",
      "Epoch 54/150\n",
      " - 0s - loss: 0.0062 - val_loss: 0.0108\n",
      "Epoch 55/150\n",
      " - 0s - loss: 0.0060 - val_loss: 0.0107\n",
      "Epoch 56/150\n",
      " - 0s - loss: 0.0057 - val_loss: 0.0106\n",
      "Epoch 57/150\n",
      " - 0s - loss: 0.0055 - val_loss: 0.0106\n",
      "Epoch 58/150\n",
      " - 0s - loss: 0.0054 - val_loss: 0.0106\n",
      "Epoch 59/150\n",
      " - 0s - loss: 0.0052 - val_loss: 0.0105\n",
      "Epoch 60/150\n",
      " - 0s - loss: 0.0050 - val_loss: 0.0105\n",
      "Epoch 61/150\n",
      " - 0s - loss: 0.0049 - val_loss: 0.0105\n",
      "Epoch 62/150\n",
      " - 0s - loss: 0.0048 - val_loss: 0.0105\n",
      "Epoch 63/150\n",
      " - 0s - loss: 0.0046 - val_loss: 0.0105\n",
      "Epoch 64/150\n",
      " - 0s - loss: 0.0045 - val_loss: 0.0105\n",
      "Epoch 65/150\n",
      " - 0s - loss: 0.0044 - val_loss: 0.0105\n",
      "Epoch 66/150\n",
      " - 0s - loss: 0.0043 - val_loss: 0.0105\n",
      "Epoch 67/150\n",
      " - 0s - loss: 0.0043 - val_loss: 0.0105\n",
      "Epoch 68/150\n",
      " - 0s - loss: 0.0042 - val_loss: 0.0105\n",
      "Epoch 69/150\n",
      " - 0s - loss: 0.0041 - val_loss: 0.0105\n",
      "Epoch 70/150\n",
      " - 0s - loss: 0.0040 - val_loss: 0.0105\n",
      "Epoch 71/150\n",
      " - 0s - loss: 0.0040 - val_loss: 0.0105\n",
      "Epoch 72/150\n",
      " - 0s - loss: 0.0039 - val_loss: 0.0106\n",
      "Epoch 73/150\n",
      " - 0s - loss: 0.0039 - val_loss: 0.0106\n",
      "Epoch 74/150\n",
      " - 0s - loss: 0.0038 - val_loss: 0.0106\n",
      "Epoch 75/150\n",
      " - 0s - loss: 0.0038 - val_loss: 0.0106\n",
      "Epoch 76/150\n",
      " - 0s - loss: 0.0037 - val_loss: 0.0106\n",
      "Epoch 77/150\n",
      " - 0s - loss: 0.0037 - val_loss: 0.0106\n",
      "Epoch 78/150\n",
      " - 0s - loss: 0.0036 - val_loss: 0.0107\n",
      "Epoch 79/150\n",
      " - 0s - loss: 0.0036 - val_loss: 0.0107\n",
      "Epoch 80/150\n",
      " - 0s - loss: 0.0035 - val_loss: 0.0107\n",
      "Epoch 81/150\n",
      " - 0s - loss: 0.0035 - val_loss: 0.0107\n",
      "Epoch 82/150\n",
      " - 0s - loss: 0.0035 - val_loss: 0.0107\n",
      "Epoch 83/150\n",
      " - 0s - loss: 0.0034 - val_loss: 0.0108\n",
      "Epoch 84/150\n",
      " - 0s - loss: 0.0034 - val_loss: 0.0108\n",
      "Epoch 85/150\n",
      " - 0s - loss: 0.0034 - val_loss: 0.0108\n",
      "Epoch 86/150\n",
      " - 0s - loss: 0.0033 - val_loss: 0.0108\n",
      "Epoch 87/150\n",
      " - 0s - loss: 0.0033 - val_loss: 0.0108\n",
      "Epoch 88/150\n",
      " - 0s - loss: 0.0033 - val_loss: 0.0109\n",
      "Epoch 89/150\n",
      " - 0s - loss: 0.0033 - val_loss: 0.0109\n",
      "Epoch 90/150\n",
      " - 0s - loss: 0.0032 - val_loss: 0.0109\n",
      "Epoch 91/150\n",
      " - 0s - loss: 0.0032 - val_loss: 0.0109\n",
      "Epoch 92/150\n",
      " - 0s - loss: 0.0032 - val_loss: 0.0109\n",
      "Epoch 93/150\n",
      " - 0s - loss: 0.0032 - val_loss: 0.0110\n",
      "Epoch 94/150\n",
      " - 0s - loss: 0.0031 - val_loss: 0.0110\n",
      "Epoch 95/150\n",
      " - 0s - loss: 0.0031 - val_loss: 0.0110\n",
      "Epoch 96/150\n",
      " - 0s - loss: 0.0031 - val_loss: 0.0110\n",
      "Epoch 97/150\n",
      " - 0s - loss: 0.0031 - val_loss: 0.0110\n",
      "Epoch 98/150\n",
      " - 0s - loss: 0.0030 - val_loss: 0.0111\n",
      "Epoch 99/150\n",
      " - 0s - loss: 0.0030 - val_loss: 0.0111\n",
      "Epoch 100/150\n",
      " - 0s - loss: 0.0030 - val_loss: 0.0111\n",
      "Epoch 101/150\n",
      " - 0s - loss: 0.0030 - val_loss: 0.0111\n",
      "Epoch 102/150\n",
      " - 0s - loss: 0.0030 - val_loss: 0.0111\n",
      "Epoch 103/150\n",
      " - 0s - loss: 0.0029 - val_loss: 0.0111\n",
      "Epoch 104/150\n",
      " - 0s - loss: 0.0029 - val_loss: 0.0112\n",
      "Epoch 105/150\n",
      " - 0s - loss: 0.0029 - val_loss: 0.0112\n",
      "Epoch 106/150\n",
      " - 0s - loss: 0.0029 - val_loss: 0.0112\n",
      "Epoch 107/150\n",
      " - 0s - loss: 0.0029 - val_loss: 0.0112\n",
      "Epoch 108/150\n",
      " - 0s - loss: 0.0029 - val_loss: 0.0112\n",
      "Epoch 109/150\n",
      " - 0s - loss: 0.0028 - val_loss: 0.0112\n",
      "Epoch 110/150\n",
      " - 0s - loss: 0.0028 - val_loss: 0.0113\n",
      "Epoch 111/150\n",
      " - 0s - loss: 0.0028 - val_loss: 0.0113\n",
      "Epoch 112/150\n",
      " - 0s - loss: 0.0028 - val_loss: 0.0113\n",
      "Epoch 113/150\n",
      " - 0s - loss: 0.0028 - val_loss: 0.0113\n",
      "Epoch 114/150\n",
      " - 0s - loss: 0.0028 - val_loss: 0.0113\n",
      "Epoch 115/150\n",
      " - 0s - loss: 0.0027 - val_loss: 0.0113\n",
      "Epoch 116/150\n",
      " - 0s - loss: 0.0027 - val_loss: 0.0114\n",
      "Epoch 117/150\n",
      " - 0s - loss: 0.0027 - val_loss: 0.0114\n",
      "Epoch 118/150\n",
      " - 0s - loss: 0.0027 - val_loss: 0.0114\n",
      "Epoch 119/150\n",
      " - 0s - loss: 0.0027 - val_loss: 0.0114\n",
      "Epoch 120/150\n",
      " - 0s - loss: 0.0027 - val_loss: 0.0114\n",
      "Epoch 121/150\n",
      " - 0s - loss: 0.0027 - val_loss: 0.0114\n",
      "Epoch 122/150\n",
      " - 0s - loss: 0.0027 - val_loss: 0.0114\n",
      "Epoch 123/150\n",
      " - 0s - loss: 0.0026 - val_loss: 0.0115\n",
      "Epoch 124/150\n",
      " - 0s - loss: 0.0026 - val_loss: 0.0115\n",
      "Epoch 125/150\n",
      " - 0s - loss: 0.0026 - val_loss: 0.0115\n",
      "Epoch 126/150\n",
      " - 0s - loss: 0.0026 - val_loss: 0.0115\n",
      "Epoch 127/150\n",
      " - 0s - loss: 0.0026 - val_loss: 0.0115\n",
      "Epoch 128/150\n",
      " - 0s - loss: 0.0026 - val_loss: 0.0115\n",
      "Epoch 129/150\n",
      " - 0s - loss: 0.0026 - val_loss: 0.0115\n",
      "Epoch 130/150\n",
      " - 0s - loss: 0.0026 - val_loss: 0.0116\n",
      "Epoch 131/150\n",
      " - 0s - loss: 0.0025 - val_loss: 0.0116\n",
      "Epoch 132/150\n",
      " - 0s - loss: 0.0025 - val_loss: 0.0116\n",
      "Epoch 133/150\n",
      " - 0s - loss: 0.0025 - val_loss: 0.0116\n",
      "Epoch 134/150\n",
      " - 0s - loss: 0.0025 - val_loss: 0.0116\n",
      "Epoch 135/150\n",
      " - 0s - loss: 0.0025 - val_loss: 0.0116\n",
      "Epoch 136/150\n",
      " - 0s - loss: 0.0025 - val_loss: 0.0116\n",
      "Epoch 137/150\n",
      " - 0s - loss: 0.0025 - val_loss: 0.0116\n",
      "Epoch 138/150\n",
      " - 0s - loss: 0.0025 - val_loss: 0.0117\n",
      "Epoch 139/150\n",
      " - 0s - loss: 0.0025 - val_loss: 0.0117\n",
      "Epoch 140/150\n",
      " - 0s - loss: 0.0024 - val_loss: 0.0117\n",
      "Epoch 141/150\n",
      " - 0s - loss: 0.0024 - val_loss: 0.0117\n",
      "Epoch 142/150\n",
      " - 0s - loss: 0.0024 - val_loss: 0.0117\n",
      "Epoch 143/150\n",
      " - 0s - loss: 0.0024 - val_loss: 0.0117\n",
      "Epoch 144/150\n",
      " - 0s - loss: 0.0024 - val_loss: 0.0117\n",
      "Epoch 145/150\n",
      " - 0s - loss: 0.0024 - val_loss: 0.0117\n",
      "Epoch 146/150\n",
      " - 0s - loss: 0.0024 - val_loss: 0.0118\n",
      "Epoch 147/150\n",
      " - 0s - loss: 0.0024 - val_loss: 0.0118\n",
      "Epoch 148/150\n",
      " - 0s - loss: 0.0024 - val_loss: 0.0118\n",
      "Epoch 149/150\n",
      " - 0s - loss: 0.0024 - val_loss: 0.0118\n",
      "Epoch 150/150\n",
      " - 0s - loss: 0.0023 - val_loss: 0.0118\n",
      "7/7 [==============================] - 0s 798us/step\n"
     ]
    }
   ],
   "source": [
    "history, score = rnn.train(verbose=2)"
   ]
  },
  {
   "cell_type": "code",
   "execution_count": 33,
   "metadata": {},
   "outputs": [
    {
     "data": {
      "text/plain": [
       "<matplotlib.legend.Legend at 0x1a3bca90f0>"
      ]
     },
     "execution_count": 33,
     "metadata": {},
     "output_type": "execute_result"
    },
    {
     "data": {
      "image/png": "[encoded data removed]",
      "text/plain": [
       "<Figure size 432x288 with 1 Axes>"
      ]
     },
     "metadata": {
      "needs_background": "light"
     },
     "output_type": "display_data"
    }
   ],
   "source": [
    "# plot history\n",
    "plt.plot(history.history['loss'], label='train')\n",
    "plt.plot(history.history['val_loss'], label='test')\n",
    "plt.legend()"
   ]
  },
  {
   "cell_type": "code",
   "execution_count": 34,
   "metadata": {},
   "outputs": [
    {
     "name": "stdout",
     "output_type": "stream",
     "text": [
      "score:  0.011808368510433606\n"
     ]
    }
   ],
   "source": [
    "print('score: ',score)"
   ]
  },
  {
   "cell_type": "code",
   "execution_count": 35,
   "metadata": {},
   "outputs": [],
   "source": [
    "y, y_pred = rnn.getAllPredictions()"
   ]
  },
  {
   "cell_type": "code",
   "execution_count": 36,
   "metadata": {},
   "outputs": [
    {
     "data": {
      "text/plain": [
       "[<matplotlib.lines.Line2D at 0x1a3b086c50>,\n",
       " <matplotlib.lines.Line2D at 0x1a3b086da0>]"
      ]
     },
     "execution_count": 36,
     "metadata": {},
     "output_type": "execute_result"
    },
    {
     "data": {
      "image/png": "[encoded data removed]",
      "text/plain": [
       "<Figure size 432x288 with 1 Axes>"
      ]
     },
     "metadata": {
      "needs_background": "light"
     },
     "output_type": "display_data"
    }
   ],
   "source": [
    "plt.plot(y,'b',y_pred,'r')"
   ]
  },
  {
   "cell_type": "code",
   "execution_count": 37,
   "metadata": {},
   "outputs": [],
   "source": [
    "preds = rnn.predict(40)"
   ]
  },
  {
   "cell_type": "code",
   "execution_count": 38,
   "metadata": {},
   "outputs": [
    {
     "data": {
      "text/plain": [
       "[<matplotlib.lines.Line2D at 0x1a3affa748>]"
      ]
     },
     "execution_count": 38,
     "metadata": {},
     "output_type": "execute_result"
    },
    {
     "data": {
      "image/png": "[encoded data removed]",
      "text/plain": [
       "<Figure size 432x288 with 1 Axes>"
      ]
     },
     "metadata": {
      "needs_background": "light"
     },
     "output_type": "display_data"
    }
   ],
   "source": [
    "plt.plot(preds)"
   ]
  },
  {
   "cell_type": "code",
   "execution_count": null,
   "metadata": {},
   "outputs": [],
   "source": []
  }
 ],
 "metadata": {
  "kernelspec": {
   "display_name": "Python 3",
   "language": "python",
   "name": "python3"
  },
  "language_info": {
   "codemirror_mode": {
    "name": "ipython",
    "version": 3
   },
   "file_extension": ".py",
   "mimetype": "text/x-python",
   "name": "python",
   "nbconvert_exporter": "python",
   "pygments_lexer": "ipython3",
   "version": "3.6.3"
  }
 },
 "nbformat": 4,
 "nbformat_minor": 2
}
