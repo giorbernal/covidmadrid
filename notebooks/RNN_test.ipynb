{
 "cells": [
  {
   "cell_type": "markdown",
   "metadata": {},
   "source": [
    "# RNN Test"
   ]
  },
  {
   "cell_type": "code",
   "execution_count": 1,
   "metadata": {},
   "outputs": [],
   "source": [
    "WORK_FOLDER='../'"
   ]
  },
  {
   "cell_type": "code",
   "execution_count": 2,
   "metadata": {},
   "outputs": [],
   "source": [
    "import sys\n",
    "sys.path.append(WORK_FOLDER)"
   ]
  },
  {
   "cell_type": "code",
   "execution_count": 3,
   "metadata": {},
   "outputs": [
    {
     "name": "stderr",
     "output_type": "stream",
     "text": [
      "Using TensorFlow backend.\n"
     ]
    }
   ],
   "source": [
    "import numpy as np\n",
    "import matplotlib.pyplot as plt\n",
    "\n",
    "from utils.helper import loadCovidData, plotPlaces\n",
    "from utils.RNN import RNN\n",
    "%matplotlib inline"
   ]
  },
  {
   "cell_type": "code",
   "execution_count": 4,
   "metadata": {},
   "outputs": [],
   "source": [
    "df = loadCovidData(prefix=WORK_FOLDER)"
   ]
  },
  {
   "cell_type": "code",
   "execution_count": 5,
   "metadata": {},
   "outputs": [],
   "source": [
    "df_total = df.groupby(by='fecha_informe').sum().reset_index()\n",
    "unique_place = 'Comunidad de Madrid'\n",
    "df_total['municipio_distrito'] = df_total.apply(lambda x: unique_place, axis=1)"
   ]
  },
  {
   "cell_type": "code",
   "execution_count": 6,
   "metadata": {},
   "outputs": [],
   "source": [
    "def getPlaceSerie(df, place):\n",
    "    _, df_inc = plotPlaces(df, np.array([place]), agg_factor=1, plot=False)\n",
    "    serie = df_inc['Contagios diarios'].to_numpy()\n",
    "    return serie"
   ]
  },
  {
   "cell_type": "code",
   "execution_count": 7,
   "metadata": {},
   "outputs": [
    {
     "data": {
      "text/plain": [
       "<Figure size 1440x504 with 0 Axes>"
      ]
     },
     "metadata": {},
     "output_type": "display_data"
    }
   ],
   "source": [
    "serie = getPlaceSerie(df,'Getafe')"
   ]
  },
  {
   "cell_type": "code",
   "execution_count": 8,
   "metadata": {},
   "outputs": [
    {
     "data": {
      "text/plain": [
       "[<matplotlib.lines.Line2D at 0x10eb661d0>]"
      ]
     },
     "execution_count": 8,
     "metadata": {},
     "output_type": "execute_result"
    },
    {
     "data": {
      "image/png": "[encoded data removed]",
      "text/plain": [
       "<Figure size 432x288 with 1 Axes>"
      ]
     },
     "metadata": {
      "needs_background": "light"
     },
     "output_type": "display_data"
    }
   ],
   "source": [
    "plt.plot(serie)"
   ]
  },
  {
   "cell_type": "code",
   "execution_count": 9,
   "metadata": {},
   "outputs": [
    {
     "name": "stdout",
     "output_type": "stream",
     "text": [
      "WARNING:tensorflow:From /anaconda3/envs/dsbase/lib/python3.6/site-packages/tensorflow/python/framework/op_def_library.py:263: colocate_with (from tensorflow.python.framework.ops) is deprecated and will be removed in a future version.\n",
      "Instructions for updating:\n",
      "Colocations handled automatically by placer.\n"
     ]
    }
   ],
   "source": [
    "rnn = RNN(data=serie, window_size=7, lstm_units=8, epochs=150)"
   ]
  },
  {
   "cell_type": "code",
   "execution_count": 10,
   "metadata": {},
   "outputs": [
    {
     "name": "stdout",
     "output_type": "stream",
     "text": [
      "WARNING:tensorflow:From /anaconda3/envs/dsbase/lib/python3.6/site-packages/tensorflow/python/ops/math_ops.py:3066: to_int32 (from tensorflow.python.ops.math_ops) is deprecated and will be removed in a future version.\n",
      "Instructions for updating:\n",
      "Use tf.cast instead.\n",
      "Train on 36 samples, validate on 9 samples\n",
      "Epoch 1/150\n",
      " - 3s - loss: 0.0732 - val_loss: 0.1018\n",
      "Epoch 2/150\n",
      " - 0s - loss: 0.0646 - val_loss: 0.0891\n",
      "Epoch 3/150\n",
      " - 0s - loss: 0.0575 - val_loss: 0.0778\n",
      "Epoch 4/150\n",
      " - 0s - loss: 0.0518 - val_loss: 0.0683\n",
      "Epoch 5/150\n",
      " - 0s - loss: 0.0475 - val_loss: 0.0604\n",
      "Epoch 6/150\n",
      " - 0s - loss: 0.0443 - val_loss: 0.0543\n",
      "Epoch 7/150\n",
      " - 0s - loss: 0.0420 - val_loss: 0.0494\n",
      "Epoch 8/150\n",
      " - 0s - loss: 0.0402 - val_loss: 0.0457\n",
      "Epoch 9/150\n",
      " - 0s - loss: 0.0390 - val_loss: 0.0428\n",
      "Epoch 10/150\n",
      " - 0s - loss: 0.0379 - val_loss: 0.0405\n",
      "Epoch 11/150\n",
      " - 0s - loss: 0.0371 - val_loss: 0.0386\n",
      "Epoch 12/150\n",
      " - 0s - loss: 0.0364 - val_loss: 0.0371\n",
      "Epoch 13/150\n",
      " - 0s - loss: 0.0358 - val_loss: 0.0359\n",
      "Epoch 14/150\n",
      " - 0s - loss: 0.0352 - val_loss: 0.0348\n",
      "Epoch 15/150\n",
      " - 0s - loss: 0.0347 - val_loss: 0.0339\n",
      "Epoch 16/150\n",
      " - 0s - loss: 0.0342 - val_loss: 0.0331\n",
      "Epoch 17/150\n",
      " - 0s - loss: 0.0337 - val_loss: 0.0324\n",
      "Epoch 18/150\n",
      " - 0s - loss: 0.0332 - val_loss: 0.0318\n",
      "Epoch 19/150\n",
      " - 0s - loss: 0.0328 - val_loss: 0.0312\n",
      "Epoch 20/150\n",
      " - 0s - loss: 0.0324 - val_loss: 0.0307\n",
      "Epoch 21/150\n",
      " - 0s - loss: 0.0319 - val_loss: 0.0302\n",
      "Epoch 22/150\n",
      " - 0s - loss: 0.0315 - val_loss: 0.0297\n",
      "Epoch 23/150\n",
      " - 0s - loss: 0.0311 - val_loss: 0.0293\n",
      "Epoch 24/150\n",
      " - 0s - loss: 0.0307 - val_loss: 0.0289\n",
      "Epoch 25/150\n",
      " - 0s - loss: 0.0303 - val_loss: 0.0285\n",
      "Epoch 26/150\n",
      " - 0s - loss: 0.0299 - val_loss: 0.0281\n",
      "Epoch 27/150\n",
      " - 0s - loss: 0.0295 - val_loss: 0.0277\n",
      "Epoch 28/150\n",
      " - 0s - loss: 0.0292 - val_loss: 0.0274\n",
      "Epoch 29/150\n",
      " - 0s - loss: 0.0288 - val_loss: 0.0270\n",
      "Epoch 30/150\n",
      " - 0s - loss: 0.0284 - val_loss: 0.0267\n",
      "Epoch 31/150\n",
      " - 0s - loss: 0.0280 - val_loss: 0.0263\n",
      "Epoch 32/150\n",
      " - 0s - loss: 0.0276 - val_loss: 0.0259\n",
      "Epoch 33/150\n",
      " - 0s - loss: 0.0272 - val_loss: 0.0256\n",
      "Epoch 34/150\n",
      " - 0s - loss: 0.0268 - val_loss: 0.0252\n",
      "Epoch 35/150\n",
      " - 0s - loss: 0.0263 - val_loss: 0.0249\n",
      "Epoch 36/150\n",
      " - 0s - loss: 0.0259 - val_loss: 0.0245\n",
      "Epoch 37/150\n",
      " - 0s - loss: 0.0255 - val_loss: 0.0241\n",
      "Epoch 38/150\n",
      " - 0s - loss: 0.0250 - val_loss: 0.0238\n",
      "Epoch 39/150\n",
      " - 0s - loss: 0.0246 - val_loss: 0.0234\n",
      "Epoch 40/150\n",
      " - 0s - loss: 0.0241 - val_loss: 0.0230\n",
      "Epoch 41/150\n",
      " - 0s - loss: 0.0237 - val_loss: 0.0226\n",
      "Epoch 42/150\n",
      " - 0s - loss: 0.0232 - val_loss: 0.0222\n",
      "Epoch 43/150\n",
      " - 0s - loss: 0.0228 - val_loss: 0.0218\n",
      "Epoch 44/150\n",
      " - 0s - loss: 0.0223 - val_loss: 0.0214\n",
      "Epoch 45/150\n",
      " - 0s - loss: 0.0219 - val_loss: 0.0210\n",
      "Epoch 46/150\n",
      " - 0s - loss: 0.0214 - val_loss: 0.0206\n",
      "Epoch 47/150\n",
      " - 0s - loss: 0.0210 - val_loss: 0.0202\n",
      "Epoch 48/150\n",
      " - 0s - loss: 0.0206 - val_loss: 0.0198\n",
      "Epoch 49/150\n",
      " - 0s - loss: 0.0202 - val_loss: 0.0194\n",
      "Epoch 50/150\n",
      " - 0s - loss: 0.0199 - val_loss: 0.0190\n",
      "Epoch 51/150\n",
      " - 0s - loss: 0.0195 - val_loss: 0.0186\n",
      "Epoch 52/150\n",
      " - 0s - loss: 0.0192 - val_loss: 0.0182\n",
      "Epoch 53/150\n",
      " - 0s - loss: 0.0188 - val_loss: 0.0179\n",
      "Epoch 54/150\n",
      " - 0s - loss: 0.0185 - val_loss: 0.0175\n",
      "Epoch 55/150\n",
      " - 0s - loss: 0.0183 - val_loss: 0.0172\n",
      "Epoch 56/150\n",
      " - 0s - loss: 0.0180 - val_loss: 0.0169\n",
      "Epoch 57/150\n",
      " - 0s - loss: 0.0178 - val_loss: 0.0166\n",
      "Epoch 58/150\n",
      " - 0s - loss: 0.0175 - val_loss: 0.0164\n",
      "Epoch 59/150\n",
      " - 0s - loss: 0.0174 - val_loss: 0.0162\n",
      "Epoch 60/150\n",
      " - 0s - loss: 0.0172 - val_loss: 0.0160\n",
      "Epoch 61/150\n",
      " - 0s - loss: 0.0170 - val_loss: 0.0158\n",
      "Epoch 62/150\n",
      " - 0s - loss: 0.0169 - val_loss: 0.0156\n",
      "Epoch 63/150\n",
      " - 0s - loss: 0.0167 - val_loss: 0.0154\n",
      "Epoch 64/150\n",
      " - 0s - loss: 0.0166 - val_loss: 0.0153\n",
      "Epoch 65/150\n",
      " - 0s - loss: 0.0164 - val_loss: 0.0151\n",
      "Epoch 66/150\n",
      " - 0s - loss: 0.0163 - val_loss: 0.0150\n",
      "Epoch 67/150\n",
      " - 0s - loss: 0.0162 - val_loss: 0.0149\n",
      "Epoch 68/150\n",
      " - 0s - loss: 0.0161 - val_loss: 0.0148\n",
      "Epoch 69/150\n",
      " - 0s - loss: 0.0160 - val_loss: 0.0147\n",
      "Epoch 70/150\n",
      " - 0s - loss: 0.0159 - val_loss: 0.0146\n",
      "Epoch 71/150\n",
      " - 0s - loss: 0.0158 - val_loss: 0.0145\n",
      "Epoch 72/150\n",
      " - 0s - loss: 0.0158 - val_loss: 0.0144\n",
      "Epoch 73/150\n",
      " - 0s - loss: 0.0157 - val_loss: 0.0143\n",
      "Epoch 74/150\n",
      " - 0s - loss: 0.0156 - val_loss: 0.0143\n",
      "Epoch 75/150\n",
      " - 0s - loss: 0.0155 - val_loss: 0.0142\n",
      "Epoch 76/150\n",
      " - 0s - loss: 0.0155 - val_loss: 0.0142\n",
      "Epoch 77/150\n",
      " - 0s - loss: 0.0154 - val_loss: 0.0141\n",
      "Epoch 78/150\n",
      " - 0s - loss: 0.0154 - val_loss: 0.0140\n",
      "Epoch 79/150\n",
      " - 0s - loss: 0.0153 - val_loss: 0.0140\n",
      "Epoch 80/150\n",
      " - 0s - loss: 0.0153 - val_loss: 0.0140\n",
      "Epoch 81/150\n",
      " - 0s - loss: 0.0152 - val_loss: 0.0139\n",
      "Epoch 82/150\n",
      " - 0s - loss: 0.0152 - val_loss: 0.0139\n",
      "Epoch 83/150\n",
      " - 0s - loss: 0.0151 - val_loss: 0.0139\n",
      "Epoch 84/150\n",
      " - 0s - loss: 0.0151 - val_loss: 0.0138\n",
      "Epoch 85/150\n",
      " - 0s - loss: 0.0150 - val_loss: 0.0138\n",
      "Epoch 86/150\n",
      " - 0s - loss: 0.0150 - val_loss: 0.0138\n",
      "Epoch 87/150\n",
      " - 0s - loss: 0.0150 - val_loss: 0.0138\n",
      "Epoch 88/150\n",
      " - 0s - loss: 0.0149 - val_loss: 0.0138\n",
      "Epoch 89/150\n",
      " - 0s - loss: 0.0149 - val_loss: 0.0137\n",
      "Epoch 90/150\n",
      " - 0s - loss: 0.0149 - val_loss: 0.0137\n",
      "Epoch 91/150\n",
      " - 0s - loss: 0.0148 - val_loss: 0.0137\n",
      "Epoch 92/150\n",
      " - 0s - loss: 0.0148 - val_loss: 0.0137\n",
      "Epoch 93/150\n",
      " - 0s - loss: 0.0148 - val_loss: 0.0137\n",
      "Epoch 94/150\n",
      " - 0s - loss: 0.0148 - val_loss: 0.0137\n",
      "Epoch 95/150\n",
      " - 0s - loss: 0.0147 - val_loss: 0.0137\n",
      "Epoch 96/150\n",
      " - 0s - loss: 0.0147 - val_loss: 0.0137\n",
      "Epoch 97/150\n",
      " - 0s - loss: 0.0147 - val_loss: 0.0137\n",
      "Epoch 98/150\n",
      " - 0s - loss: 0.0147 - val_loss: 0.0137\n",
      "Epoch 99/150\n",
      " - 0s - loss: 0.0146 - val_loss: 0.0137\n",
      "Epoch 100/150\n",
      " - 0s - loss: 0.0146 - val_loss: 0.0137\n",
      "Epoch 101/150\n",
      " - 0s - loss: 0.0146 - val_loss: 0.0137\n",
      "Epoch 102/150\n",
      " - 0s - loss: 0.0146 - val_loss: 0.0137\n",
      "Epoch 103/150\n",
      " - 0s - loss: 0.0146 - val_loss: 0.0137\n",
      "Epoch 104/150\n",
      " - 0s - loss: 0.0145 - val_loss: 0.0137\n",
      "Epoch 105/150\n",
      " - 0s - loss: 0.0145 - val_loss: 0.0137\n",
      "Epoch 106/150\n",
      " - 0s - loss: 0.0145 - val_loss: 0.0137\n",
      "Epoch 107/150\n",
      " - 0s - loss: 0.0145 - val_loss: 0.0137\n",
      "Epoch 108/150\n",
      " - 0s - loss: 0.0145 - val_loss: 0.0137\n",
      "Epoch 109/150\n",
      " - 0s - loss: 0.0144 - val_loss: 0.0137\n",
      "Epoch 110/150\n",
      " - 0s - loss: 0.0144 - val_loss: 0.0137\n",
      "Epoch 111/150\n",
      " - 0s - loss: 0.0144 - val_loss: 0.0137\n",
      "Epoch 112/150\n",
      " - 0s - loss: 0.0144 - val_loss: 0.0137\n",
      "Epoch 113/150\n",
      " - 0s - loss: 0.0144 - val_loss: 0.0137\n",
      "Epoch 114/150\n",
      " - 0s - loss: 0.0144 - val_loss: 0.0137\n",
      "Epoch 115/150\n",
      " - 0s - loss: 0.0143 - val_loss: 0.0137\n",
      "Epoch 116/150\n",
      " - 0s - loss: 0.0143 - val_loss: 0.0137\n",
      "Epoch 117/150\n",
      " - 0s - loss: 0.0143 - val_loss: 0.0137\n",
      "Epoch 118/150\n",
      " - 0s - loss: 0.0143 - val_loss: 0.0137\n",
      "Epoch 119/150\n",
      " - 0s - loss: 0.0143 - val_loss: 0.0137\n",
      "Epoch 120/150\n",
      " - 0s - loss: 0.0143 - val_loss: 0.0137\n",
      "Epoch 121/150\n",
      " - 0s - loss: 0.0142 - val_loss: 0.0137\n",
      "Epoch 122/150\n",
      " - 0s - loss: 0.0142 - val_loss: 0.0137\n",
      "Epoch 123/150\n",
      " - 0s - loss: 0.0142 - val_loss: 0.0137\n",
      "Epoch 124/150\n",
      " - 0s - loss: 0.0142 - val_loss: 0.0137\n",
      "Epoch 125/150\n",
      " - 0s - loss: 0.0142 - val_loss: 0.0137\n",
      "Epoch 126/150\n",
      " - 0s - loss: 0.0142 - val_loss: 0.0137\n",
      "Epoch 127/150\n",
      " - 0s - loss: 0.0141 - val_loss: 0.0137\n",
      "Epoch 128/150\n",
      " - 0s - loss: 0.0141 - val_loss: 0.0137\n",
      "Epoch 129/150\n",
      " - 0s - loss: 0.0141 - val_loss: 0.0137\n",
      "Epoch 130/150\n",
      " - 0s - loss: 0.0141 - val_loss: 0.0137\n",
      "Epoch 131/150\n",
      " - 0s - loss: 0.0141 - val_loss: 0.0137\n",
      "Epoch 132/150\n",
      " - 0s - loss: 0.0141 - val_loss: 0.0137\n",
      "Epoch 133/150\n",
      " - 0s - loss: 0.0141 - val_loss: 0.0137\n",
      "Epoch 134/150\n",
      " - 0s - loss: 0.0140 - val_loss: 0.0137\n",
      "Epoch 135/150\n",
      " - 0s - loss: 0.0140 - val_loss: 0.0137\n",
      "Epoch 136/150\n",
      " - 0s - loss: 0.0140 - val_loss: 0.0137\n",
      "Epoch 137/150\n",
      " - 0s - loss: 0.0140 - val_loss: 0.0137\n",
      "Epoch 138/150\n",
      " - 0s - loss: 0.0140 - val_loss: 0.0137\n",
      "Epoch 139/150\n",
      " - 0s - loss: 0.0140 - val_loss: 0.0137\n",
      "Epoch 140/150\n",
      " - 0s - loss: 0.0140 - val_loss: 0.0137\n",
      "Epoch 141/150\n",
      " - 0s - loss: 0.0139 - val_loss: 0.0137\n",
      "Epoch 142/150\n",
      " - 0s - loss: 0.0139 - val_loss: 0.0137\n",
      "Epoch 143/150\n",
      " - 0s - loss: 0.0139 - val_loss: 0.0137\n",
      "Epoch 144/150\n",
      " - 0s - loss: 0.0139 - val_loss: 0.0137\n",
      "Epoch 145/150\n",
      " - 0s - loss: 0.0139 - val_loss: 0.0137\n",
      "Epoch 146/150\n",
      " - 0s - loss: 0.0139 - val_loss: 0.0137\n",
      "Epoch 147/150\n",
      " - 0s - loss: 0.0138 - val_loss: 0.0137\n",
      "Epoch 148/150\n",
      " - 0s - loss: 0.0138 - val_loss: 0.0137\n",
      "Epoch 149/150\n"
     ]
    },
    {
     "name": "stdout",
     "output_type": "stream",
     "text": [
      " - 0s - loss: 0.0138 - val_loss: 0.0137\n",
      "Epoch 150/150\n",
      " - 0s - loss: 0.0138 - val_loss: 0.0137\n",
      "9/9 [==============================] - 0s 1ms/step\n"
     ]
    }
   ],
   "source": [
    "history, score = rnn.train(verbose=2)"
   ]
  },
  {
   "cell_type": "code",
   "execution_count": 11,
   "metadata": {},
   "outputs": [
    {
     "data": {
      "text/plain": [
       "<matplotlib.legend.Legend at 0x1a3803d630>"
      ]
     },
     "execution_count": 11,
     "metadata": {},
     "output_type": "execute_result"
    },
    {
     "data": {
      "image/png": "[encoded data removed]",
      "text/plain": [
       "<Figure size 432x288 with 1 Axes>"
      ]
     },
     "metadata": {
      "needs_background": "light"
     },
     "output_type": "display_data"
    }
   ],
   "source": [
    "# plot history\n",
    "plt.plot(history.history['loss'], label='train')\n",
    "plt.plot(history.history['val_loss'], label='test')\n",
    "plt.legend()"
   ]
  },
  {
   "cell_type": "code",
   "execution_count": 12,
   "metadata": {},
   "outputs": [
    {
     "name": "stdout",
     "output_type": "stream",
     "text": [
      "score:  0.01368545823627048\n"
     ]
    }
   ],
   "source": [
    "print('score: ',score)"
   ]
  },
  {
   "cell_type": "code",
   "execution_count": 13,
   "metadata": {},
   "outputs": [],
   "source": [
    "y, y_pred = rnn.getAllPredictions()"
   ]
  },
  {
   "cell_type": "code",
   "execution_count": 20,
   "metadata": {},
   "outputs": [
    {
     "data": {
      "text/plain": [
       "<matplotlib.legend.Legend at 0x1a38956dd8>"
      ]
     },
     "execution_count": 20,
     "metadata": {},
     "output_type": "execute_result"
    },
    {
     "data": {
      "image/png": "[encoded data removed]",
      "text/plain": [
       "<Figure size 432x288 with 1 Axes>"
      ]
     },
     "metadata": {
      "needs_background": "light"
     },
     "output_type": "display_data"
    }
   ],
   "source": [
    "plt.plot(y,'b',label='realidad')\n",
    "plt.plot(y_pred,'r',label='predict')\n",
    "plt.legend()"
   ]
  },
  {
   "cell_type": "code",
   "execution_count": null,
   "metadata": {},
   "outputs": [],
   "source": [
    "preds = rnn.predict(40)"
   ]
  },
  {
   "cell_type": "code",
   "execution_count": null,
   "metadata": {},
   "outputs": [],
   "source": [
    "plt.plot(preds)"
   ]
  },
  {
   "cell_type": "code",
   "execution_count": null,
   "metadata": {},
   "outputs": [],
   "source": []
  }
 ],
 "metadata": {
  "kernelspec": {
   "display_name": "Python 3",
   "language": "python",
   "name": "python3"
  },
  "language_info": {
   "codemirror_mode": {
    "name": "ipython",
    "version": 3
   },
   "file_extension": ".py",
   "mimetype": "text/x-python",
   "name": "python",
   "nbconvert_exporter": "python",
   "pygments_lexer": "ipython3",
   "version": "3.6.3"
  }
 },
 "nbformat": 4,
 "nbformat_minor": 2
}
