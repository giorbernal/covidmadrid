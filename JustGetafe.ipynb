{
 "cells": [
  {
   "cell_type": "markdown",
   "metadata": {},
   "source": [
    "# Caso concreto: Getafe "
   ]
  },
  {
   "cell_type": "code",
   "execution_count": 1,
   "metadata": {},
   "outputs": [],
   "source": [
    "import numpy as np\n",
    "import pandas as pd\n",
    "import matplotlib.pyplot as plt\n",
    "import seaborn as sns\n",
    "\n",
    "from dbfread import DBF\n",
    "import shapefile as shp"
   ]
  },
  {
   "cell_type": "code",
   "execution_count": 2,
   "metadata": {},
   "outputs": [],
   "source": [
    "df = pd.read_csv('datasets/covid19_tia_zonas_basicas_salud.csv', sep=';', encoding='latin-1')"
   ]
  },
  {
   "cell_type": "code",
   "execution_count": 26,
   "metadata": {},
   "outputs": [
    {
     "data": {
      "text/html": [
       "<div>\n",
       "<style scoped>\n",
       "    .dataframe tbody tr th:only-of-type {\n",
       "        vertical-align: middle;\n",
       "    }\n",
       "\n",
       "    .dataframe tbody tr th {\n",
       "        vertical-align: top;\n",
       "    }\n",
       "\n",
       "    .dataframe thead th {\n",
       "        text-align: right;\n",
       "    }\n",
       "</style>\n",
       "<table border=\"1\" class=\"dataframe\">\n",
       "  <thead>\n",
       "    <tr style=\"text-align: right;\">\n",
       "      <th></th>\n",
       "      <th>zona_basica_salud</th>\n",
       "      <th>fecha_informe</th>\n",
       "      <th>casos_confirmados_ultimos_14dias</th>\n",
       "      <th>tasa_incidencia_acumulada_ultimos_14dias</th>\n",
       "      <th>casos_confirmados_totales</th>\n",
       "      <th>tasa_incidencia_acumulada_total</th>\n",
       "      <th>codigo_geometria</th>\n",
       "    </tr>\n",
       "  </thead>\n",
       "  <tbody>\n",
       "    <tr>\n",
       "      <th>0</th>\n",
       "      <td>Abrantes</td>\n",
       "      <td>2020/04/21 07:00:00</td>\n",
       "      <td>55.0</td>\n",
       "      <td>186,39</td>\n",
       "      <td>255.0</td>\n",
       "      <td>864,17</td>\n",
       "      <td>1</td>\n",
       "    </tr>\n",
       "    <tr>\n",
       "      <th>1</th>\n",
       "      <td>Acacias</td>\n",
       "      <td>2020/04/21 07:00:00</td>\n",
       "      <td>40.0</td>\n",
       "      <td>205,64</td>\n",
       "      <td>170.0</td>\n",
       "      <td>873,99</td>\n",
       "      <td>2</td>\n",
       "    </tr>\n",
       "    <tr>\n",
       "      <th>2</th>\n",
       "      <td>Adelfas</td>\n",
       "      <td>2020/04/21 07:00:00</td>\n",
       "      <td>34.0</td>\n",
       "      <td>122,73</td>\n",
       "      <td>301.0</td>\n",
       "      <td>1086,56</td>\n",
       "      <td>3</td>\n",
       "    </tr>\n",
       "    <tr>\n",
       "      <th>3</th>\n",
       "      <td>Alameda</td>\n",
       "      <td>2020/04/21 07:00:00</td>\n",
       "      <td>30.0</td>\n",
       "      <td>139,26</td>\n",
       "      <td>140.0</td>\n",
       "      <td>649,86</td>\n",
       "      <td>4</td>\n",
       "    </tr>\n",
       "    <tr>\n",
       "      <th>4</th>\n",
       "      <td>Alameda de Osuna</td>\n",
       "      <td>2020/04/21 07:00:00</td>\n",
       "      <td>41.0</td>\n",
       "      <td>133,42</td>\n",
       "      <td>253.0</td>\n",
       "      <td>823,3</td>\n",
       "      <td>5</td>\n",
       "    </tr>\n",
       "  </tbody>\n",
       "</table>\n",
       "</div>"
      ],
      "text/plain": [
       "  zona_basica_salud        fecha_informe  casos_confirmados_ultimos_14dias  \\\n",
       "0          Abrantes  2020/04/21 07:00:00                              55.0   \n",
       "1           Acacias  2020/04/21 07:00:00                              40.0   \n",
       "2           Adelfas  2020/04/21 07:00:00                              34.0   \n",
       "3           Alameda  2020/04/21 07:00:00                              30.0   \n",
       "4  Alameda de Osuna  2020/04/21 07:00:00                              41.0   \n",
       "\n",
       "  tasa_incidencia_acumulada_ultimos_14dias  casos_confirmados_totales  \\\n",
       "0                                   186,39                      255.0   \n",
       "1                                   205,64                      170.0   \n",
       "2                                   122,73                      301.0   \n",
       "3                                   139,26                      140.0   \n",
       "4                                   133,42                      253.0   \n",
       "\n",
       "  tasa_incidencia_acumulada_total  codigo_geometria  \n",
       "0                          864,17                 1  \n",
       "1                          873,99                 2  \n",
       "2                         1086,56                 3  \n",
       "3                          649,86                 4  \n",
       "4                           823,3                 5  "
      ]
     },
     "execution_count": 26,
     "metadata": {},
     "output_type": "execute_result"
    }
   ],
   "source": [
    "df.head()"
   ]
  },
  {
   "cell_type": "code",
   "execution_count": 27,
   "metadata": {},
   "outputs": [],
   "source": [
    "dbf=DBF('datasets/zonas_basicas_salud/zonas_basicas_salud.dbf',encoding='utf-8')"
   ]
  },
  {
   "cell_type": "code",
   "execution_count": 28,
   "metadata": {},
   "outputs": [],
   "source": [
    "df_dbf=pd.DataFrame(iter(dbf))"
   ]
  },
  {
   "cell_type": "code",
   "execution_count": 30,
   "metadata": {},
   "outputs": [
    {
     "name": "stdout",
     "output_type": "stream",
     "text": [
      "<class 'pandas.core.frame.DataFrame'>\n",
      "RangeIndex: 286 entries, 0 to 285\n",
      "Data columns (total 4 columns):\n",
      "DESBDT        286 non-null object\n",
      "Shape_Leng    286 non-null float64\n",
      "Shape_Area    286 non-null float64\n",
      "codigo_geo    286 non-null object\n",
      "dtypes: float64(2), object(2)\n",
      "memory usage: 9.0+ KB\n"
     ]
    }
   ],
   "source": [
    "df_dbf.info()"
   ]
  },
  {
   "cell_type": "code",
   "execution_count": 7,
   "metadata": {},
   "outputs": [],
   "source": [
    "shape = shp.Reader(\"datasets/zonas_basicas_salud/zonas_basicas_salud.shp\")"
   ]
  },
  {
   "cell_type": "code",
   "execution_count": 35,
   "metadata": {},
   "outputs": [],
   "source": [
    "#first feature of the shapefile\n",
    "feature = shape.shapeRecords()[87]\n",
    "first = feature.shape.__geo_interface__  \n",
    "#print(first) # (GeoJSON format)"
   ]
  },
  {
   "cell_type": "code",
   "execution_count": 40,
   "metadata": {},
   "outputs": [
    {
     "data": {
      "text/plain": [
       "Record #0: ['Abrantes', 5500.11494572, 1570513.9715, '001']"
      ]
     },
     "execution_count": 40,
     "metadata": {},
     "output_type": "execute_result"
    }
   ],
   "source": [
    "shape.records()[0]"
   ]
  },
  {
   "cell_type": "code",
   "execution_count": null,
   "metadata": {},
   "outputs": [],
   "source": []
  }
 ],
 "metadata": {
  "kernelspec": {
   "display_name": "Python 3",
   "language": "python",
   "name": "python3"
  },
  "language_info": {
   "codemirror_mode": {
    "name": "ipython",
    "version": 3
   },
   "file_extension": ".py",
   "mimetype": "text/x-python",
   "name": "python",
   "nbconvert_exporter": "python",
   "pygments_lexer": "ipython3",
   "version": "3.6.3"
  }
 },
 "nbformat": 4,
 "nbformat_minor": 2
}
